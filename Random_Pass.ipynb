{
 "cells": [
  {
   "cell_type": "code",
   "execution_count": 10,
   "id": "5c717316-05a2-4510-a60e-87137fca96f3",
   "metadata": {},
   "outputs": [],
   "source": [
    "from tkinter import *\n",
    "import string\n",
    "import random\n",
    "import pyperclip\n",
    "\n",
    "\n",
    "def generator():\n",
    "    small_alphabets=string.ascii_lowercase\n",
    "    capital_alphabets=string.ascii_uppercase\n",
    "    numbers=string.digits\n",
    "    special_characters=string.punctuation\n",
    "\n",
    "    all=small_alphabets+capital_alphabets+numbers+special_characters\n",
    "    password_length=int(length_box.get())\n",
    "\n",
    "    # password=random.sample(all,password_length)\n",
    "    # passwordField.insert(0,password)\n",
    "    if choice.get()==1:\n",
    "        passwordField.insert(0,random.sample(small_alphabets,password_length))\n",
    "    if choice.get()==2:\n",
    "        passwordField.insert(0,random.sample(small_alphabets+capital_alphabets,password_length))\n",
    "    if choice.get()==3:\n",
    "        passwordField.insert(0,random.sample(all,password_length))\n",
    "\n",
    "def copy():\n",
    "    random_password=passwordField.get()\n",
    "    pyperclip.copy(random_password)\n",
    "\n",
    "root=Tk()\n",
    "root.config(bg=\"gray20\")\n",
    "choice=IntVar()\n",
    "Font=('arial','13','bold')\n",
    "passwordLabel=Label(root,text=\"Password Generator\",font=('times new roman',20,'bold'),bg=\"gray20\",fg=\"white\")\n",
    "passwordLabel.grid(pady=10)\n",
    "weakradioButton=Radiobutton(root,text=\"Weak\",value=1,variable=choice,font=Font)\n",
    "weakradioButton.grid(pady=5)\n",
    "\n",
    "mediumradioButton=Radiobutton(root,text=\"Medium\",value=2,variable=choice,font=Font)\n",
    "mediumradioButton.grid(pady=5)\n",
    "\n",
    "strongradioButton=Radiobutton(root,text=\"Strong\",value=3,variable=choice,font=Font)\n",
    "strongradioButton.grid(pady=5)\n",
    "\n",
    "lengthLabel=Label(root,text=\"Password Length\",font=Font,bg=\"gray20\",fg=\"white\")\n",
    "lengthLabel.grid(pady=5)\n",
    "length_box=Spinbox(root,from_=5,to_=18,width=5,font=Font)\n",
    "length_box.grid(pady=5)\n",
    "\n",
    "generateButton=Button(root,text=\"Generate\",font=Font,command=generator)\n",
    "generateButton.grid(pady=5)\n",
    "\n",
    "passwordField=Entry(root,width=25,bd=2,font=Font)\n",
    "passwordField.grid()\n",
    "\n",
    "CopyButton=Button(root,text=\"Copy\",font=Font,command=copy)\n",
    "CopyButton.grid(pady=5)\n",
    "\n",
    "\n",
    "root.mainloop()"
   ]
  },
  {
   "cell_type": "code",
   "execution_count": 8,
   "id": "9126a21f-d697-4c63-98fe-6526b9da3099",
   "metadata": {},
   "outputs": [
    {
     "name": "stdout",
     "output_type": "stream",
     "text": [
      "Requirement already satisfied: pyperclip in c:\\users\\marc\\anaconda3\\lib\\site-packages (1.9.0)Note: you may need to restart the kernel to use updated packages.\n",
      "\n"
     ]
    }
   ],
   "source": [
    "\n",
    "\n",
    "%pip install pyperclip\n",
    "\n",
    "\n"
   ]
  },
  {
   "cell_type": "code",
   "execution_count": null,
   "id": "3ce6a26f-f06a-48c3-a9b6-db6ab5639de6",
   "metadata": {},
   "outputs": [],
   "source": []
  }
 ],
 "metadata": {
  "kernelspec": {
   "display_name": "Python 3 (ipykernel)",
   "language": "python",
   "name": "python3"
  },
  "language_info": {
   "codemirror_mode": {
    "name": "ipython",
    "version": 3
   },
   "file_extension": ".py",
   "mimetype": "text/x-python",
   "name": "python",
   "nbconvert_exporter": "python",
   "pygments_lexer": "ipython3",
   "version": "3.11.7"
  }
 },
 "nbformat": 4,
 "nbformat_minor": 5
}
